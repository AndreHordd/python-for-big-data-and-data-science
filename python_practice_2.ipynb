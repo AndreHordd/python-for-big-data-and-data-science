{
  "nbformat": 4,
  "nbformat_minor": 0,
  "metadata": {
    "colab": {
      "provenance": []
    },
    "kernelspec": {
      "name": "python3",
      "display_name": "Python 3"
    },
    "language_info": {
      "name": "python"
    }
  },
  "cells": [
    {
      "cell_type": "markdown",
      "source": [
        "# I. Змінні та памʼять."
      ],
      "metadata": {
        "id": "p9wwt0LZzNvn"
      }
    },
    {
      "cell_type": "markdown",
      "source": [
        "1. Створити змінні, що посилаються на два цілих числа, що однакові за значенням, де значення належить проміжку від -5 до 256. Перевірте, чи будуть ці змінні рівні тільки за значенням або ж ще будуть посилатися на один і той самий обʼєкт в памʼяті? Наведіть код та дайте текстову відповідь нижче."
      ],
      "metadata": {
        "id": "HTJrrm95xSV9"
      }
    },
    {
      "cell_type": "code",
      "execution_count": null,
      "metadata": {
        "id": "TATni2vzayjG",
        "colab": {
          "base_uri": "https://localhost:8080/"
        },
        "outputId": "48c639f9-cc19-4797-99dd-965a8c021304"
      },
      "outputs": [
        {
          "output_type": "stream",
          "name": "stdout",
          "text": [
            "Check by value: True\n",
            "Check by memory: True\n"
          ]
        }
      ],
      "source": [
        "firstNumber = 42\n",
        "secondNumber = 42\n",
        "\n",
        "checkByValue = firstNumber == secondNumber\n",
        "print(\"Check by value: \" + str(checkByValue))\n",
        "\n",
        "checkByMemory = id(firstNumber) == id(secondNumber)\n",
        "print(\"Check by memory: \" + str(checkByMemory))"
      ]
    },
    {
      "cell_type": "markdown",
      "source": [
        "Текстова відповідь:\n",
        "\n",
        "Ці числа будуть посилатися на один й той самий об'єкт в пам'яті, оскільки для int проміжок від -5 до 256 є зарезевованим в пам'яті. Приклад який підтверджує це можна побачити вище"
      ],
      "metadata": {
        "id": "zfRG_o3WbRdg"
      }
    },
    {
      "cell_type": "markdown",
      "source": [],
      "metadata": {
        "id": "yCKhhufQS3xG"
      }
    },
    {
      "cell_type": "markdown",
      "source": [
        "2. За допомогою якої функції можна перевірити належність змінної до вказаного типу даних (напр. чи змінна True посилається на значення булевого та цілочисленого типу)?"
      ],
      "metadata": {
        "id": "ISORzt6M3vAt"
      }
    },
    {
      "cell_type": "code",
      "source": [
        "isinstance(True, bool)"
      ],
      "metadata": {
        "id": "9vL9CFaMbfyo",
        "colab": {
          "base_uri": "https://localhost:8080/"
        },
        "outputId": "8ba0557e-a4af-4516-c04d-9c023938daa9"
      },
      "execution_count": null,
      "outputs": [
        {
          "output_type": "execute_result",
          "data": {
            "text/plain": [
              "True"
            ]
          },
          "metadata": {},
          "execution_count": 3
        }
      ]
    },
    {
      "cell_type": "markdown",
      "source": [
        "# II. Цілі числа та числа з рухомою комою"
      ],
      "metadata": {
        "id": "tRxugKAxwYLw"
      }
    },
    {
      "cell_type": "markdown",
      "source": [
        "3. Створити дві змінні, що посилаються на будь-які ціле число та число з рухомою комою та продемонструвати такі арифметичні операції: додавання, віднімання, ділення, множення, ділення без залишку, ділення по модулю, приведення до ступеню. Всі результати операцій вивести на екран."
      ],
      "metadata": {
        "id": "NLHkgd5Gybc8"
      }
    },
    {
      "cell_type": "code",
      "source": [
        "intNumber = 42\n",
        "floatNumber = 5.5\n",
        "print(\"1. Add: \" + (str)(42 + 5.5))\n",
        "print(\"2. Subtraction: \" + (str)(42 - 5.5))\n",
        "print(\"3. Division: \" + (str)(42 / 5.5))\n",
        "print(\"4. Multiplication: \" + (str)(42 * 5.5))\n",
        "print(\"5. Division without remainder: \" + (str)(42 // 5.5))\n",
        "print(\"6. Division by modulus: \" + (str)(42 % 5.5))\n",
        "print(\"7. Exponentiation: \" + (str)(42 ** 5.5))"
      ],
      "metadata": {
        "id": "nb8u_3pjb2cA",
        "colab": {
          "base_uri": "https://localhost:8080/"
        },
        "outputId": "7f7a129e-aeb6-4aef-d25b-217ade49abe6"
      },
      "execution_count": null,
      "outputs": [
        {
          "output_type": "stream",
          "name": "stdout",
          "text": [
            "1. Add: 47.5\n",
            "2. Subtraction: 36.5\n",
            "3. Division: 7.636363636363637\n",
            "4. Multiplication: 231.0\n",
            "5. Division without remainder: 7.0\n",
            "6. Division by modulus: 3.5\n",
            "7. Exponentiation: 846975986.1474637\n"
          ]
        }
      ]
    },
    {
      "cell_type": "markdown",
      "source": [
        "4. Використовуючи змінні з вправи 3, продемонструйте механізм явного перетворення типів, де числа з рухомою комою перетворюються на цілі числа. Також визначте змінну, що посилається на значення булевого типу і спробуйте явно привести її до цілого числа."
      ],
      "metadata": {
        "id": "1kBClKgPzZnC"
      }
    },
    {
      "cell_type": "code",
      "source": [
        "print(\"Float number(5.5) to integer: \" + str(int(floatNumber)))\n",
        "boolValue = True;\n",
        "print(\"Bool value(True) to integer: \" + str(int(boolValue)))"
      ],
      "metadata": {
        "id": "TbqJbkeUcKsD",
        "colab": {
          "base_uri": "https://localhost:8080/"
        },
        "outputId": "1138a95c-9cf2-418a-a06c-e93b9a6f3523"
      },
      "execution_count": null,
      "outputs": [
        {
          "output_type": "stream",
          "name": "stdout",
          "text": [
            "Float number(5.5) to integer: 5\n",
            "Bool value(True) to integer: 1\n"
          ]
        }
      ]
    },
    {
      "cell_type": "markdown",
      "source": [
        "# IІІ. Рядки (String)."
      ],
      "metadata": {
        "id": "EVJ7AflwxrZi"
      }
    },
    {
      "cell_type": "markdown",
      "source": [
        "5. Створити пустий рядок двома різними способами."
      ],
      "metadata": {
        "id": "_s5ECzz9zE61"
      }
    },
    {
      "cell_type": "code",
      "source": [
        "emptyStringByQuotes = \"\";\n",
        "print(\"Empty string by quotes:\" + emptyStringByQuotes)\n",
        "emptyStringByStr = str();\n",
        "print(\"Empty string by str:\" + emptyStringByStr)"
      ],
      "metadata": {
        "id": "fkZJHu9Scvc-",
        "colab": {
          "base_uri": "https://localhost:8080/"
        },
        "outputId": "fc905fb7-b4a0-43d8-b7a8-55265a4265b9"
      },
      "execution_count": null,
      "outputs": [
        {
          "output_type": "stream",
          "name": "stdout",
          "text": [
            "Empty string by quotes:\n",
            "Empty string by str:\n"
          ]
        }
      ]
    },
    {
      "cell_type": "markdown",
      "source": [
        "6. Створити рядок з апострофом. Зробити його сирим. Вивести обидва рядка на екран."
      ],
      "metadata": {
        "id": "4Bdn9J3MzLf_"
      }
    },
    {
      "cell_type": "code",
      "source": [
        "simpleApostrophe = \"'\"\n",
        "print(simpleApostrophe)\n",
        "rawApostrophe = r\"'\"\n",
        "print(rawApostrophe)"
      ],
      "metadata": {
        "id": "ivji_hsmc0GH",
        "colab": {
          "base_uri": "https://localhost:8080/"
        },
        "outputId": "08635ca4-3df6-472e-c62f-7c1ecfe172da"
      },
      "execution_count": null,
      "outputs": [
        {
          "output_type": "stream",
          "name": "stdout",
          "text": [
            "'\n",
            "'\n"
          ]
        }
      ]
    },
    {
      "cell_type": "markdown",
      "source": [
        "7. Створити змінну, що буде посилатися на Ваше прізвище латинкою. Створити форматований рядок, який буде мати вигляд \"My surname is ______\", де на місці нижніх підкреслень буде Ваше прізвище зі змінної."
      ],
      "metadata": {
        "id": "bg_d8wM4z8dS"
      }
    },
    {
      "cell_type": "code",
      "source": [
        "mySurName = \"Hordashko\"\n",
        "print(f\"My surname is {mySurName}\")"
      ],
      "metadata": {
        "id": "kuxFgpWndACq",
        "colab": {
          "base_uri": "https://localhost:8080/"
        },
        "outputId": "f234986c-0a50-4b75-e0cc-29c22ae37660"
      },
      "execution_count": null,
      "outputs": [
        {
          "output_type": "stream",
          "name": "stdout",
          "text": [
            "My surname is Hordashko\n"
          ]
        }
      ]
    },
    {
      "cell_type": "markdown",
      "source": [
        "8. Маючи рядок \"My dog is crazy.\" перетворити його на список [\"my\", \"dog\", \"is\", \"crazy\"]"
      ],
      "metadata": {
        "id": "1Nc6RqvQ0hxU"
      }
    },
    {
      "cell_type": "code",
      "source": [
        "string = \"My dog is crazy.\"\n",
        "listStrings = string.replace(\".\", \"\").lower().split()\n",
        "listStrings"
      ],
      "metadata": {
        "id": "w1Ya4RqedUhw",
        "colab": {
          "base_uri": "https://localhost:8080/"
        },
        "outputId": "ccca8395-5894-4855-d404-0107e07fc1ae"
      },
      "execution_count": null,
      "outputs": [
        {
          "output_type": "execute_result",
          "data": {
            "text/plain": [
              "['my', 'dog', 'is', 'crazy']"
            ]
          },
          "metadata": {},
          "execution_count": 29
        }
      ]
    },
    {
      "cell_type": "markdown",
      "source": [
        "# IV. Робота зі списками."
      ],
      "metadata": {
        "id": "GYVqN9uP1D4n"
      }
    },
    {
      "cell_type": "markdown",
      "source": [
        "9. Створити список двома різними за синтаксисом способами. За допомогою вбудованої функції обчисліть довжину одного з них."
      ],
      "metadata": {
        "id": "7-DeDunw2sO-"
      }
    },
    {
      "cell_type": "code",
      "source": [
        "listOfNumber_1 = [1,6,3,6,8,2]\n",
        "print(\"The first list: \" + str(listOfNumber_1))\n",
        "listOfNumber_2 = list()\n",
        "listOfNumber_2.append(1)\n",
        "listOfNumber_2.append(6)\n",
        "listOfNumber_2.append(3)\n",
        "listOfNumber_2.append(6)\n",
        "listOfNumber_2.append(8)\n",
        "listOfNumber_2.append(2)\n",
        "print(\"Second list: \" + str(listOfNumber_2))\n",
        "print(\"Size second list: \" + (str)(len(listOfNumber_2)))\n"
      ],
      "metadata": {
        "id": "zxg06Uuxdyoh",
        "colab": {
          "base_uri": "https://localhost:8080/"
        },
        "outputId": "bfdd05a2-bee9-4bf7-8799-77de96c7a00c"
      },
      "execution_count": null,
      "outputs": [
        {
          "output_type": "stream",
          "name": "stdout",
          "text": [
            "First list: [1, 6, 3, 6, 8, 2]\n",
            "Second list: [1, 6, 3, 6, 8, 2]\n",
            "Size second list: 6\n"
          ]
        }
      ]
    },
    {
      "cell_type": "markdown",
      "source": [
        "10. Створіть два списка та за допомогою спеціального методу додайте другий з них в якості останнього елемента першого."
      ],
      "metadata": {
        "id": "8vmGUTjL22gI"
      }
    },
    {
      "cell_type": "code",
      "source": [
        "listOfString_1 = [\"Gojo\", \"Jojo\", \"Naruto\"]\n",
        "listOfString_2 = [\"Uzumaki\", \"Jotaro\"]\n",
        "print(\"List before extend: \" + (str)(listOfString_1))\n",
        "listOfString_1.extend(listOfString_2)\n",
        "print(\"List after extend: \" + (str)(listOfString_1))"
      ],
      "metadata": {
        "id": "uHtjWYw7d7hm",
        "colab": {
          "base_uri": "https://localhost:8080/"
        },
        "outputId": "08a18cd3-7e1e-4e8e-d26b-710c324d179b"
      },
      "execution_count": null,
      "outputs": [
        {
          "output_type": "stream",
          "name": "stdout",
          "text": [
            "List before extend: ['Gojo', 'Jojo', 'Naruto']\n",
            "List after extend: ['Gojo', 'Jojo', 'Naruto', 'Uzumaki', 'Jotaro']\n"
          ]
        }
      ]
    },
    {
      "cell_type": "markdown",
      "source": [
        "11. Створіть список, де елементами цього списку також є списки. Отримай перший елемент з останнього рядка та виведи значення на екран."
      ],
      "metadata": {
        "id": "JC3BkD-67_--"
      }
    },
    {
      "cell_type": "code",
      "source": [
        "listOfListsNumbers = [[1,2,3],[11,22,33],[111,222,333]]\n",
        "print(\"The first element of last list: \" + (str)(listOfListsNumbers[-1][0]))"
      ],
      "metadata": {
        "id": "Kz2jZHsGeLlz",
        "colab": {
          "base_uri": "https://localhost:8080/"
        },
        "outputId": "da26a24a-cb8a-4e64-948b-be01b7de67f3"
      },
      "execution_count": null,
      "outputs": [
        {
          "output_type": "stream",
          "name": "stdout",
          "text": [
            "The first element of last list: 111\n"
          ]
        }
      ]
    },
    {
      "cell_type": "markdown",
      "source": [
        "12. Створіть список з десяти елементів різного типу. Отримайте всі елементи, окрім двох перших та двох останніх та збережіть їх в новій змінній."
      ],
      "metadata": {
        "id": "JA47PKTv8zFK"
      }
    },
    {
      "cell_type": "code",
      "source": [
        "listOfDifferensElements = [1, 3.4, \"World\", True, [2,4,1], -32, False, \"Blue\", -444.43, [322,42]]\n",
        "changedListOfDifferensElements = listOfDifferensElements[2:8]\n",
        "print(\"Changed list: \" + str(changedListOfDifferensElements))"
      ],
      "metadata": {
        "id": "_rHdUR-ueP4-",
        "colab": {
          "base_uri": "https://localhost:8080/"
        },
        "outputId": "2973e518-c7ae-428b-cadf-fca6dc2e2ca4"
      },
      "execution_count": null,
      "outputs": [
        {
          "output_type": "stream",
          "name": "stdout",
          "text": [
            "Changed list: ['World', True, [2, 4, 1], -32, False, 'Blue']\n"
          ]
        }
      ]
    },
    {
      "cell_type": "markdown",
      "source": [
        "# V. Робота з кортежами."
      ],
      "metadata": {
        "id": "pCjR1dJb1Qbi"
      }
    },
    {
      "cell_type": "markdown",
      "source": [
        "14. Створити кортеж з один елементом."
      ],
      "metadata": {
        "id": "fAZCxAX06R_k"
      }
    },
    {
      "cell_type": "code",
      "source": [
        "tupleWithOneElement = (3.14,)\n",
        "print(\"Check that element is tuple : \" + str(isinstance(tupleWithOneElement, tuple)))"
      ],
      "metadata": {
        "id": "H7d82WkQev3e",
        "colab": {
          "base_uri": "https://localhost:8080/"
        },
        "outputId": "761ae09d-fc73-4adf-b758-a13a25b62d44"
      },
      "execution_count": null,
      "outputs": [
        {
          "output_type": "stream",
          "name": "stdout",
          "text": [
            "Check that element is tuple : True\n"
          ]
        }
      ]
    },
    {
      "cell_type": "markdown",
      "source": [
        "15. Порівняйте список та кортеж. Назвіть схожості та відмінності, випадки використання."
      ],
      "metadata": {
        "id": "8LCtYcmI6w1M"
      }
    },
    {
      "cell_type": "markdown",
      "source": [
        "Головна схожість між списками й кортежами є те, що ми можем зберігати декілька значень в одному елементі.\n",
        "\n",
        "Якщо говорити про відмінність, то вона проявляється в основному через два параметри - чи вони змінні(mutable) та їхня швидкість опрацювання.\n",
        "\n",
        "Списки є змінними(можна добавляти, удаляти елементи й інші оперції в цьому списку без створення нового списку), але їхнім мінусом є те, що вони повільні в порівнянні з кортежем\n",
        "\n",
        "Кортежі в свою очередь є незмінними(прийдется створювати новий кортеж, щоб внести якісь зміни), але працюють доволі швидко\n",
        "\n",
        "В плані використання, то списки ми використовуєм щоб зберігати певні елементи, з якими ми будем взаємодіяти й де нам треба буде змінювати елементи в цьому списку. Кортежі ми використовуєм коли ми не збираємось змінювати елементи й для того щоб гарантувати безпеку, що ми не будем змінювати елементи в певному кортежі"
      ],
      "metadata": {
        "id": "fUsN1Hnue0C6"
      }
    },
    {
      "cell_type": "markdown",
      "source": [
        "16. Створіть кортеж з 11ти елементів чисел з рухомою комою та отримайте кожен парний за індексом елемент в зворотньому порядку. Наприклад, маючи (1.2, 2.3, 3.3, 4.3, 5.3, 6.3, 7.3, 8.3, 9.3, 0.3), отримати (0.3, 8.3, 6.3, 4.3, 2.3). Результат збережіть в нову змінну та виведіть на екран."
      ],
      "metadata": {
        "id": "m0xrwFijAmDD"
      }
    },
    {
      "cell_type": "code",
      "source": [
        "tupleOfFloats = (-1.3, 1.2, 2.3, 3.3, 4.3, 5.3, 6.3, 7.3, 8.3, 9.3, 0.3)\n",
        "tupleOfEvenFloats = tupleOfFloats[-1::-2]\n",
        "print(\"Even floats form tuple: \" + str(tupleOfEvenFloats))"
      ],
      "metadata": {
        "id": "p-5DAH6XfAGA",
        "colab": {
          "base_uri": "https://localhost:8080/"
        },
        "outputId": "abf15b23-c94b-4994-d8e1-0e1ac4f4ab58"
      },
      "execution_count": 2,
      "outputs": [
        {
          "output_type": "stream",
          "name": "stdout",
          "text": [
            "Even floats form tuple: (0.3, 8.3, 6.3, 4.3, 2.3, -1.3)\n"
          ]
        }
      ]
    },
    {
      "cell_type": "markdown",
      "source": [
        "# VI. Множини (Set)."
      ],
      "metadata": {
        "id": "rW_I9dt3x6cW"
      }
    },
    {
      "cell_type": "markdown",
      "source": [
        "17. Створити множину без елементів. Після цого за допомогою методу додайте кілька різних елементів до множини. Чи множини є змінним типом даних?"
      ],
      "metadata": {
        "id": "zNjRLHLw1Bgg"
      }
    },
    {
      "cell_type": "code",
      "source": [
        "setOfNumber = set()\n",
        "setOfNumber.add(4)\n",
        "setOfNumber.add(54.4)\n",
        "setOfNumber.add(42)\n",
        "setOfNumber.add(4)\n",
        "print(\"Set after adding some elements: \" + str(setOfNumber))"
      ],
      "metadata": {
        "id": "KOv7zc2Kfo4N",
        "colab": {
          "base_uri": "https://localhost:8080/"
        },
        "outputId": "1779a220-e5b5-401a-d623-6b2e61b152c1"
      },
      "execution_count": null,
      "outputs": [
        {
          "output_type": "stream",
          "name": "stdout",
          "text": [
            "Set after adding some elements: {42, 4, 54.4}\n"
          ]
        }
      ]
    },
    {
      "cell_type": "markdown",
      "source": [
        "Так, множини є змінним типом данних, оскільки ми можем змінювати, додавати, забирати елементи в множині. Але елементи в цій множині повинні бути незмінними"
      ],
      "metadata": {
        "id": "vxS6dVYiftZQ"
      }
    },
    {
      "cell_type": "markdown",
      "source": [
        "18. Створити множину, маючи список my_list = [1, 1, 2, 67, 67, 8, 9]. Пояснити, чому \"зникли\" деякі елементи."
      ],
      "metadata": {
        "id": "gHpT0Zw_1HEF"
      }
    },
    {
      "cell_type": "code",
      "source": [
        "my_list = [1, 1, 2, 67, 67, 8, 9]\n",
        "my_set = set(my_list)\n",
        "print(\"List converted into set: \" + str(my_set))"
      ],
      "metadata": {
        "id": "qCN4uvJ_fxmu",
        "colab": {
          "base_uri": "https://localhost:8080/"
        },
        "outputId": "72e2302c-789e-4bfa-de2a-cdd45fdfd548"
      },
      "execution_count": null,
      "outputs": [
        {
          "output_type": "stream",
          "name": "stdout",
          "text": [
            "List converted into set: {1, 2, 67, 8, 9}\n"
          ]
        }
      ]
    },
    {
      "cell_type": "markdown",
      "source": [
        "Деякі елементи зникли, оскільки в множині зберігаються тільки унікальні елементи"
      ],
      "metadata": {
        "id": "tFNc1e20fyny"
      }
    },
    {
      "cell_type": "markdown",
      "source": [
        "19. Створіть дві множини. Продемонстуйте над ними операції: обʼєднання, різниці, пересічі та симетричної різниці. Використовуйте методи, що не змінюють множини, а створюють нові."
      ],
      "metadata": {
        "id": "SRMkGizS1UwY"
      }
    },
    {
      "cell_type": "code",
      "source": [
        "firstSetOfNumbers = {40,42,41,44,50,51,52,45}\n",
        "secondSetOfNumbers = {32,42,40,44,46,50,52,54}\n",
        "\n",
        "unionSet = firstSetOfNumbers.union(secondSetOfNumbers)\n",
        "differenceSet = firstSetOfNumbers.difference(secondSetOfNumbers)\n",
        "intersectionSet = firstSetOfNumbers.intersection(secondSetOfNumbers)\n",
        "symmetricDifferenceSet = firstSetOfNumbers.symmetric_difference(secondSetOfNumbers)\n",
        "\n",
        "print(\"The first set: \" + str(firstSetOfNumbers))\n",
        "print(\"The second set: \" + str(secondSetOfNumbers))\n",
        "print(\"\\n1. Union: \" + str(unionSet))\n",
        "print(\"2. Difference: \" + str(differenceSet))\n",
        "print(\"3. Intersection: \" + str(intersectionSet))\n",
        "print(\"4. Symmetric difference: \" + str(symmetricDifferenceSet))"
      ],
      "metadata": {
        "id": "h0T-VuDnf3Ri",
        "colab": {
          "base_uri": "https://localhost:8080/"
        },
        "outputId": "4dacfadc-76d1-424a-e576-3c7928fee7ff"
      },
      "execution_count": null,
      "outputs": [
        {
          "output_type": "stream",
          "name": "stdout",
          "text": [
            "The first set: {40, 41, 42, 44, 45, 50, 51, 52}\n",
            "The second set: {32, 40, 42, 44, 46, 50, 52, 54}\n",
            "\n",
            "1. Union: {32, 40, 41, 42, 44, 45, 46, 50, 51, 52, 54}\n",
            "2. Difference: {41, 51, 45}\n",
            "3. Intersection: {40, 42, 44, 50, 52}\n",
            "4. Symmetric difference: {32, 41, 45, 46, 51, 54}\n"
          ]
        }
      ]
    },
    {
      "cell_type": "markdown",
      "source": [
        "# VII. Словники (Dictionary)."
      ],
      "metadata": {
        "id": "kWc8gkzTx7Ea"
      }
    },
    {
      "cell_type": "markdown",
      "source": [
        "20. Створіть пустий словник. До нього додайте чотири пари елементів такі, щоб їхні ключі були різних типів. Чи може список бути ключем? Чому?"
      ],
      "metadata": {
        "id": "i5FLwj-B2ybQ"
      }
    },
    {
      "cell_type": "code",
      "source": [
        "dictOfElements = {}\n",
        "dictOfElements[\"first\"] = 1\n",
        "dictOfElements[2] = \"Two\"\n",
        "dictOfElements[(3,4,5)] = True\n",
        "dictOfElements[False] = {4, \"Four\"}\n",
        "dictOfElements"
      ],
      "metadata": {
        "id": "hxgv3BzrgLAV",
        "colab": {
          "base_uri": "https://localhost:8080/"
        },
        "outputId": "52cbc3a9-128a-4b47-fa9f-e74252589b2e"
      },
      "execution_count": 4,
      "outputs": [
        {
          "output_type": "execute_result",
          "data": {
            "text/plain": [
              "{'first': 1, 2: 'Two', (3, 4, 5): True, False: {4, 'Four'}}"
            ]
          },
          "metadata": {},
          "execution_count": 4
        }
      ]
    },
    {
      "cell_type": "markdown",
      "source": [
        "Так, списки не можуть бути бути ключем, оскільки ключами можуть бути всі унікальні та незмінні елементи, а списки є змінними"
      ],
      "metadata": {
        "id": "zwa7UVN-gR3m"
      }
    },
    {
      "cell_type": "markdown",
      "source": [
        "21. Створіть словник, де значенням в одній з пар теж буде словник, який теж має вкладений словник. Виведіть на екран значення, що міститься в словнику, що знаходиться на найнижчому рівні ієрархії вкладеності (найбільш внутрішній)."
      ],
      "metadata": {
        "id": "WM_pMlJsgoNf"
      }
    },
    {
      "cell_type": "code",
      "source": [
        "threeDimensionalDict = {\n",
        "    \"first\" : {\"second\" :{\"third\" : True}},\n",
        "    \"another\": {1,2,3}\n",
        "}\n",
        "print(\"The deeper dict in threeDimensionalDict: \" + str(threeDimensionalDict[\"first\"][\"second\"][\"third\"]))"
      ],
      "metadata": {
        "id": "60dlP7IHhAy4",
        "colab": {
          "base_uri": "https://localhost:8080/"
        },
        "outputId": "ff4fc125-9fd8-42f8-f347-4505d80ad0b2"
      },
      "execution_count": 4,
      "outputs": [
        {
          "output_type": "stream",
          "name": "stdout",
          "text": [
            "The deeper dict in threeDimensionalDict: True\n"
          ]
        }
      ]
    },
    {
      "cell_type": "markdown",
      "source": [
        "# Вітаю! Ви велика(ий) молодець, що впоралась(вся). Похваліть себе та побалуйте чимось приємним. Я Вами пишаюся."
      ],
      "metadata": {
        "id": "xOZP0hkx6cCr"
      }
    }
  ]
}