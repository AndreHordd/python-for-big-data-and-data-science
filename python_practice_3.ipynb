{
  "nbformat": 4,
  "nbformat_minor": 0,
  "metadata": {
    "colab": {
      "provenance": []
    },
    "kernelspec": {
      "name": "python3",
      "display_name": "Python 3"
    },
    "language_info": {
      "name": "python"
    }
  },
  "cells": [
    {
      "cell_type": "markdown",
      "source": [
        "# I. Оператори порівняння та логічні оператори. Умови."
      ],
      "metadata": {
        "id": "qDEi2Pi-4yUC"
      }
    },
    {
      "cell_type": "markdown",
      "source": [
        "1. (5б) Створіть цілочисленну змінну зі своїм щасливим або улюбленим числом. Напишіть код, який би автоматизовував наступну задачу.\n",
        "\n",
        "Якщо число парне, помножте його на 2 та виведіть результат на екран.\n",
        "\n",
        "Але якщо число непарне, помножте його на 3 та додайте 1 і виведіть на екран."
      ],
      "metadata": {
        "id": "3v8D4Dkm43Ua"
      }
    },
    {
      "cell_type": "code",
      "execution_count": null,
      "metadata": {
        "id": "dlVjc-Nu4bmb",
        "colab": {
          "base_uri": "https://localhost:8080/"
        },
        "outputId": "bad38cf6-efb7-4fbc-98b2-1c0b4ee4e9c7"
      },
      "outputs": [
        {
          "output_type": "stream",
          "name": "stdout",
          "text": [
            "Lucky number: 88\n"
          ]
        }
      ],
      "source": [
        "lucky_number = 44\n",
        "if (lucky_number%2) == 0:\n",
        "  lucky_number *= 2\n",
        "else:\n",
        "  lucky_number = lucky_number*3 + 1\n",
        "\n",
        "print(f\"Lucky number: {lucky_number}\")"
      ]
    },
    {
      "cell_type": "markdown",
      "source": [
        "2. (9б) Створіть змінну, що посилається на список. Якщо список пустий, додайте будь-який елемент у кінець списку. Якщо ж ні, то нічого не робіть."
      ],
      "metadata": {
        "id": "H669P0QK5BI_"
      }
    },
    {
      "cell_type": "code",
      "source": [
        "my_list = []\n",
        "\n",
        "if not(my_list):\n",
        "  my_list.append(42)\n",
        "\n",
        "print(f\"My list: {my_list}\")"
      ],
      "metadata": {
        "id": "ecWlfra45f6E",
        "colab": {
          "base_uri": "https://localhost:8080/"
        },
        "outputId": "5a8b3a1f-e7fd-4024-dc0b-6e3859d5cd93"
      },
      "execution_count": null,
      "outputs": [
        {
          "output_type": "stream",
          "name": "stdout",
          "text": [
            "My list: [42]\n"
          ]
        }
      ]
    },
    {
      "cell_type": "markdown",
      "source": [
        "3. (13б) Створіть рядок зі своїм імʼям латинкою. Напишіть код, який би автоматизовував наступну задачу.\n",
        "\n",
        "Якщо в імені є літера \"а\"\n",
        " або \"i\", Виведіть на екран повідомлення \"A or I is in the name\".\n",
        "\n",
        "\n",
        "\n",
        "Якщо в імені є літери \"o\" та \"n\", Виведіть на екран повідомлення \"O and N is in the name\".\n",
        "\n",
        "Також якщо в імені немає літери \"о\", але є \"n\", Виведіть на екран повідомлення \"Only N is in the name\".\n",
        "\n",
        "В решті випадків виведіть на екран повідомлення \"There is no N in the name, but there might be O\".\n",
        "\n",
        "Зверніть увагу, що, наприклад, для імені \"Antonina\" буде виведено два повідомлення."
      ],
      "metadata": {
        "id": "h9Y3cMUd5h85"
      }
    },
    {
      "cell_type": "code",
      "source": [
        "my_name = \"Andrii\"\n",
        "\n",
        "if ('a' in my_name.lower()) or ('i' in my_name.lower()):\n",
        "  print(\"A or I is in the name\")\n",
        "\n",
        "if ('o' in my_name.lower()) and ('n' in my_name.lower()):\n",
        "  print(\"O and N is in the name\")\n",
        "elif not('o' in my_name.lower()) and ('n' in my_name.lower()):\n",
        "  print(\"Only N is in the name\")\n",
        "else:\n",
        "  print(\"There is no N in the name, but there might be O\")"
      ],
      "metadata": {
        "id": "bUH4LUx35u52",
        "colab": {
          "base_uri": "https://localhost:8080/"
        },
        "outputId": "f3c0293b-7516-4d2d-fe69-3a149e398858"
      },
      "execution_count": null,
      "outputs": [
        {
          "output_type": "stream",
          "name": "stdout",
          "text": [
            "A or I is in the name\n",
            "Only N is in the name\n"
          ]
        }
      ]
    },
    {
      "cell_type": "markdown",
      "source": [
        "# II. Comprehensions."
      ],
      "metadata": {
        "id": "wPCXJv4354cU"
      }
    },
    {
      "cell_type": "markdown",
      "source": [
        "4. (5б) Створіть список, використовуючи if (не if-else), range та comprehension."
      ],
      "metadata": {
        "id": "jULLW5jN55Pw"
      }
    },
    {
      "cell_type": "code",
      "source": [
        "range_list = [n for n in range(10) if n % 2 == 0]\n",
        "print(f\"Example of using list comprehensions: {range_list}\")"
      ],
      "metadata": {
        "id": "mlZalnVC6W3F",
        "colab": {
          "base_uri": "https://localhost:8080/"
        },
        "outputId": "d5f27293-0070-4998-c07e-3d1d5963fbaf"
      },
      "execution_count": null,
      "outputs": [
        {
          "output_type": "stream",
          "name": "stdout",
          "text": [
            "Example of using list comprehensions: [0, 2, 4, 6, 8]\n"
          ]
        }
      ]
    },
    {
      "cell_type": "markdown",
      "source": [
        "5. (9б) Створіть словник, використовуючи dict comprehension, що містить if else. Коли слід використовувати comprehensions, а коли їх слід уникати?"
      ],
      "metadata": {
        "id": "LqhEQ4JW6XcC"
      }
    },
    {
      "cell_type": "code",
      "source": [
        "my_dict_with_numbers = {item: ((item ** 2) if item % 2 == 0 else item/2) for item in range(10)}\n",
        "print(f\"Example of using dict comprehensions: {my_dict_with_numbers}\")"
      ],
      "metadata": {
        "id": "1yVaFbOs6hta",
        "colab": {
          "base_uri": "https://localhost:8080/"
        },
        "outputId": "508d857a-6911-4301-fdd0-05df0468a444"
      },
      "execution_count": null,
      "outputs": [
        {
          "output_type": "stream",
          "name": "stdout",
          "text": [
            "Example of using dict comprehensions: {0: 0, 1: 0.5, 2: 4, 3: 1.5, 4: 16, 5: 2.5, 6: 36, 7: 3.5, 8: 64, 9: 4.5}\n"
          ]
        }
      ]
    },
    {
      "cell_type": "markdown",
      "source": [
        "Нам слід використовувати comprehensions, замість невеликих циклів або коли ми хочемо створити новий об'єкт на основі іншого, оскільки це спрощує читання і об'єм коду.\n",
        "\n",
        "Не слід використовувати коли в нас є вкладені цикли, а також коли цикли стають великими, оскільки ще буде погіршувати читабельність, через надмірну довжину коду"
      ],
      "metadata": {
        "id": "wbkzNhKq6hzz"
      }
    },
    {
      "cell_type": "markdown",
      "source": [
        "6. (9б) Створіть список з рядками та запишіть його у змінну. Створіть ще один список на основі попереднього, де кожен рядок буде містити тільки три перших заглавних символи. Наприклад: ['hello', 'i', 'dont', 'care'] -> ['HEL', 'I', 'DON', 'CAR']. Використання comprehensions обовʼязкове."
      ],
      "metadata": {
        "id": "ZlqB8G3G6lHP"
      }
    },
    {
      "cell_type": "code",
      "source": [
        "list_of_words = ['hello', 'i', 'dont', 'care']\n",
        "list_of_changed_words = [words[0:3].upper() for words in list_of_words]\n",
        "print(f\"List of changed words: {list_of_changed_words}\")"
      ],
      "metadata": {
        "id": "nw6rz0bR60VC",
        "colab": {
          "base_uri": "https://localhost:8080/"
        },
        "outputId": "85e3612a-8f97-4a4c-b2cf-853577d973b0"
      },
      "execution_count": null,
      "outputs": [
        {
          "output_type": "stream",
          "name": "stdout",
          "text": [
            "List of changed words: ['HEL', 'I', 'DON', 'CAR']\n"
          ]
        }
      ]
    },
    {
      "cell_type": "markdown",
      "source": [
        "# III. Цикли."
      ],
      "metadata": {
        "id": "Tj573IAH64Fz"
      }
    },
    {
      "cell_type": "markdown",
      "source": [
        "7. (5б) Продемонструйте роботу циклу while. Не можна використовувати True для запуску циклу, щоб уникнути безкінечного циклу!"
      ],
      "metadata": {
        "id": "tN_33xdE65H5"
      }
    },
    {
      "cell_type": "code",
      "source": [
        "counter = 100\n",
        "while (counter > 0):\n",
        "  print(f\"Number: {counter}\")\n",
        "  counter -= 5"
      ],
      "metadata": {
        "id": "Kd9FO6yG63P5",
        "colab": {
          "base_uri": "https://localhost:8080/"
        },
        "outputId": "30ef80f3-5343-4f1c-89e5-07cf680719ec"
      },
      "execution_count": null,
      "outputs": [
        {
          "output_type": "stream",
          "name": "stdout",
          "text": [
            "Number: 100\n",
            "Number: 95\n",
            "Number: 90\n",
            "Number: 85\n",
            "Number: 80\n",
            "Number: 75\n",
            "Number: 70\n",
            "Number: 65\n",
            "Number: 60\n",
            "Number: 55\n",
            "Number: 50\n",
            "Number: 45\n",
            "Number: 40\n",
            "Number: 35\n",
            "Number: 30\n",
            "Number: 25\n",
            "Number: 20\n",
            "Number: 15\n",
            "Number: 10\n",
            "Number: 5\n"
          ]
        }
      ]
    },
    {
      "cell_type": "markdown",
      "source": [
        "8. (5б) Напишіть програму, яка виведе на екран непарні числа в діапазоні від 0 до 20 включно."
      ],
      "metadata": {
        "id": "x2CmfZO-7pW0"
      }
    },
    {
      "cell_type": "code",
      "source": [
        "counter = 0\n",
        "while counter <= 20:\n",
        "  if counter % 2 == 0:\n",
        "    print(f\"Number: {counter}\")\n",
        "  counter += 1"
      ],
      "metadata": {
        "id": "aCSRYA6s7tkF",
        "colab": {
          "base_uri": "https://localhost:8080/"
        },
        "outputId": "eff4fe58-2ff8-44ca-bc89-ede726228f2d"
      },
      "execution_count": null,
      "outputs": [
        {
          "output_type": "stream",
          "name": "stdout",
          "text": [
            "Number: 0\n",
            "Number: 2\n",
            "Number: 4\n",
            "Number: 6\n",
            "Number: 8\n",
            "Number: 10\n",
            "Number: 12\n",
            "Number: 14\n",
            "Number: 16\n",
            "Number: 18\n",
            "Number: 20\n"
          ]
        }
      ]
    },
    {
      "cell_type": "markdown",
      "source": [
        "9. (13б) Створіть список з елементами булевого типу або None. Використовуючи цикли, отримайте в результаті список з кортежами, де перший елемент кортежу - індекс(ціле число), а другий елемент - відповідне значення з першого списку.\n",
        "\n",
        "Наприклад, [True, True, None, False] -> [(0, True), (1, True), (2, None), (3, False)]"
      ],
      "metadata": {
        "id": "MDWNocZD7t_B"
      }
    },
    {
      "cell_type": "code",
      "source": [
        "list_of_booleans = [True, True, None, False]\n",
        "list_of_booleans_with_tuple = list()\n",
        "counter = 0\n",
        "while counter < len(list_of_booleans):\n",
        "  list_of_booleans_with_tuple.append((counter, list_of_booleans[counter]))\n",
        "  counter += 1\n",
        "\n",
        "print(f\"List of booleans with tuple: {list_of_booleans_with_tuple}\")"
      ],
      "metadata": {
        "id": "0EUyjMdp7yfh",
        "colab": {
          "base_uri": "https://localhost:8080/"
        },
        "outputId": "dabab821-f448-48ac-8eb0-448c3d6aa664"
      },
      "execution_count": null,
      "outputs": [
        {
          "output_type": "stream",
          "name": "stdout",
          "text": [
            "List of booleans with tuple: [(0, True), (1, True), (2, None), (3, False)]\n"
          ]
        }
      ]
    },
    {
      "cell_type": "markdown",
      "source": [
        "10. (9б) Створіть словник, де ключі - назви книжок, а значення - їхня кількість у наявності в Вашій міні-бібліотеці. Бібліотека має містити щонайменше 6 книжок (6 пар значень у словнику) і щонайбільше 10 (пар значень). Використовуючи цикли, оновіть словник (не створюйте новий) так, щоби кількість книг у наявності збільшилося на 5 кожної книги. Наприклад,\n",
        "{'It': 3, 'Fault stars': 10, 'Bible': 17, 'Psychological romance': 4, 'Harry Potter': 13} -> {'It': 8, 'Fault stars': 15, 'Bible': 22, 'Psychological romance': 9, 'Harry Potter': 18}"
      ],
      "metadata": {
        "id": "-6XUqlcG7zKs"
      }
    },
    {
      "cell_type": "code",
      "source": [
        "library = {'It': 3, 'Fault stars': 10, 'Bible': 17, 'Psychological romance': 4, 'Harry Potter': 13 , 'Unstoppable': 7}\n",
        "counter = 0\n",
        "keys_list = list(library.keys())\n",
        "\n",
        "while counter < len(library):\n",
        "  library[keys_list[counter]] += 5\n",
        "  counter += 1\n",
        "\n",
        "library"
      ],
      "metadata": {
        "id": "Ceoj9wwb791q",
        "colab": {
          "base_uri": "https://localhost:8080/"
        },
        "outputId": "f0179de4-a94f-4cc2-a2fb-13f7622f1ff3"
      },
      "execution_count": null,
      "outputs": [
        {
          "output_type": "execute_result",
          "data": {
            "text/plain": [
              "{'It': 8,\n",
              " 'Fault stars': 15,\n",
              " 'Bible': 22,\n",
              " 'Psychological romance': 9,\n",
              " 'Harry Potter': 18,\n",
              " 'Unstoppable': 12}"
            ]
          },
          "metadata": {},
          "execution_count": 49
        }
      ]
    },
    {
      "cell_type": "markdown",
      "source": [
        "11. (5б) Визначте цілочислену змінну n, що належить проміжку від 4 до 10 включно. Використовуючи цикли, виведіть в консоль наступний патерн.\n",
        "\n",
        "#\n",
        "##\n",
        "###\n",
        "####\n",
        "\n",
        "... #*n\n"
      ],
      "metadata": {
        "id": "QLzyJM288AC7"
      }
    },
    {
      "cell_type": "code",
      "source": [
        "n = 7\n",
        "counter = 1\n",
        "\n",
        "while counter < n:\n",
        "  print(\"#\"*counter)\n",
        "  counter += 1"
      ],
      "metadata": {
        "id": "KOpng87s8Duz",
        "colab": {
          "base_uri": "https://localhost:8080/"
        },
        "outputId": "6bf5e86a-e675-4a98-9cf3-38e814a797b4"
      },
      "execution_count": null,
      "outputs": [
        {
          "output_type": "stream",
          "name": "stdout",
          "text": [
            "#\n",
            "##\n",
            "###\n",
            "####\n",
            "#####\n",
            "######\n"
          ]
        }
      ]
    },
    {
      "cell_type": "markdown",
      "source": [
        "12. (13б) Гра \"Нумо вгадай\".\n",
        "Розробіть просту гру, де користувач має вгадати випадкове число від 1 до 100. Для генерації випадкового числа використовуйте функцію random.randint(a, b) (тут a та b включно). Для отримання числа з консолі використовуйте функцію input(), результат якої обовʼязково явно приведіть до типу int.\n",
        "\n",
        "Підказка: використовуйте цикл while та умови if-else, щоб повідомити користувачу піказки (напр. \"Більше\", \"Менше\") поки користувач не вгадає. По завершенню виведіть кількість спроб, які знадобилися для вгадування."
      ],
      "metadata": {
        "id": "_bd-bqAT8EHn"
      }
    },
    {
      "cell_type": "code",
      "source": [
        "import random\n",
        "\n",
        "rand_num = random.randint(1, 100)\n",
        "print(\"You start game!\\n\")\n",
        "guess_num = int(input(\"Write first number: \"))\n",
        "counter = 1\n",
        "\n",
        "while guess_num != rand_num:\n",
        "  counter += 1\n",
        "  if guess_num < rand_num:\n",
        "    guess_num = int(input(\"Number is greater! Try again: \"))\n",
        "  else:\n",
        "    guess_num = int(input(\"Number is less! Try again: \"))\n",
        "\n",
        "print(f\"\\nYou win!!!\\nThe number is {rand_num}\")\n",
        "print(f\"You did it in {counter} steps\")"
      ],
      "metadata": {
        "id": "IK9nnxFK8Hkl",
        "colab": {
          "base_uri": "https://localhost:8080/"
        },
        "outputId": "062c0a25-8330-4fb4-aeca-d2bcffd1fad5"
      },
      "execution_count": null,
      "outputs": [
        {
          "output_type": "stream",
          "name": "stdout",
          "text": [
            "You start game!\n",
            "\n",
            "Write first number: 43\n",
            "Number is greater! Try again: 4\n",
            "Number is greater! Try again: 12\n",
            "Number is greater! Try again: 65\n",
            "Number is greater! Try again: 99\n",
            "Number is less! Try again: 70\n",
            "Number is less! Try again: 60\n",
            "Number is greater! Try again: 62\n",
            "Number is greater! Try again: 69\n",
            "Number is less! Try again: 68\n",
            "\n",
            "You win!!!\n",
            "The number is 68\n",
            "You did it in 10 steps\n"
          ]
        }
      ]
    },
    {
      "cell_type": "markdown",
      "source": [
        "# Вітаю! Ви велика(ий) молодець, що впоралась(вся). Похваліть себе та побалуйте чимось приємним. Я Вами пишаюся."
      ],
      "metadata": {
        "id": "PXoXWb7Z8IGi"
      }
    }
  ]
}